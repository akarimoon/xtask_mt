{
 "cells": [
  {
   "cell_type": "code",
   "execution_count": 1,
   "metadata": {},
   "outputs": [],
   "source": [
    "import numpy as np\n",
    "import torch\n",
    "from sklearn.metrics import confusion_matrix"
   ]
  },
  {
   "cell_type": "code",
   "execution_count": 9,
   "metadata": {},
   "outputs": [],
   "source": [
    "num_classes = 2\n",
    "ignore_index = 250\n",
    "\n",
    "def cm(preds, targets, mask=None):\n",
    "    \"\"\"\n",
    "    Calculate confusion matrix\n",
    "    preds: B*H*W\n",
    "    targets: B*H*W\n",
    "    \"\"\"\n",
    "    preds, targets = preds.numpy(), targets.numpy()\n",
    "    targets = targets.astype(int)\n",
    "    if mask is None:\n",
    "        mask = np.ones_like(preds) == 1\n",
    "    else:\n",
    "        mask = np.squeeze(mask)\n",
    "    k = (preds >= 0) & (preds < num_classes) & (preds != ignore_index)\n",
    "    k &= (targets >= 0) & (targets < num_classes) & (targets != ignore_index)\n",
    "    k &= (mask.astype(np.bool))\n",
    "    return confusion_matrix(preds[k].flatten(), targets[k].flatten(), labels=list(range(num_classes)))\n",
    "\n",
    "def get_segmt_scores(cm):\n",
    "    \"\"\"\n",
    "    Calculate scores for segmentation task from the confusion matrix\n",
    "    \"\"\"\n",
    "    if cm.sum() == 0:\n",
    "        return 0, 0, 0\n",
    "    pixel = np.diag(cm).sum() / cm.sum()\n",
    "    perclass = np.diag(cm) / np.sum(cm, axis=0)\n",
    "    iou = np.diag(cm) / (cm.sum(axis=1) + cm.sum(axis=0) - np.diag(cm))\n",
    "    # with np.errstate(divide='ignore', invalid='ignore'):\n",
    "    #     pixel = np.diag(self.cm).sum() / np.float(self.cm.sum())\n",
    "    #     perclass = np.diag(self.cm) / self.cm.sum(1).astype(np.float)\n",
    "    #     IU = np.diag(self.cm) / (self.cm.sum(1) + self.cm.sum(0) - np.diag(self.cm)).astype(np.float)\n",
    "    return pixel, np.nanmean(perclass), np.nanmean(iou)\n"
   ]
  },
  {
   "cell_type": "code",
   "execution_count": 72,
   "metadata": {},
   "outputs": [],
   "source": [
    "def compute_miou(x_pred, x_output):\n",
    "    x_pred_label = x_pred\n",
    "    x_output_label = x_output\n",
    "    batch_size = x_pred.size(0)\n",
    "    class_nb = 2\n",
    "    device = x_pred.device\n",
    "    for i in range(batch_size):\n",
    "        true_class = 0\n",
    "        first_switch = True\n",
    "        invalid_mask = (x_output[i] != 250).float()\n",
    "        for j in range(class_nb):\n",
    "            pred_mask = torch.eq(x_pred_label[i], j * torch.ones(x_pred_label[i].shape).long().to(device))\n",
    "            true_mask = torch.eq(x_output_label[i], j * torch.ones(x_output_label[i].shape).long().to(device))\n",
    "            mask_comb = pred_mask.float() + true_mask.float()\n",
    "            union = torch.sum((mask_comb > 0).float() * invalid_mask)  # remove non-defined pixel predictions\n",
    "            intsec = torch.sum((mask_comb > 1).float())\n",
    "            if union == 0:\n",
    "                continue\n",
    "            if first_switch:\n",
    "                class_prob = intsec / union\n",
    "                first_switch = False\n",
    "            else:\n",
    "                class_prob = intsec / union + class_prob\n",
    "            true_class += 1\n",
    "        if i == 0:\n",
    "            batch_avg = class_prob / true_class\n",
    "        else:\n",
    "            batch_avg = class_prob / true_class + batch_avg\n",
    "    return batch_avg / batch_size\n",
    "\n",
    "\n",
    "def compute_iou(x_pred, x_output):\n",
    "    x_pred_label = x_pred\n",
    "    x_output_label = x_output\n",
    "    batch_size = x_pred.size(0)\n",
    "    for i in range(batch_size):\n",
    "        if i == 0:\n",
    "            pixel_acc = torch.div(\n",
    "                torch.sum(torch.eq(x_pred_label[i], x_output_label[i]).float()),\n",
    "                torch.sum((x_output_label[i] != 250).float()))\n",
    "        else:\n",
    "            pixel_acc = pixel_acc + torch.div(\n",
    "                torch.sum(torch.eq(x_pred_label[i], x_output_label[i]).float()),\n",
    "                torch.sum((x_output_label[i] != 250).float()))\n",
    "    return pixel_acc / batch_size\n",
    "\n",
    "\n",
    "def depth_error(x_pred, x_output):\n",
    "    device = x_pred.device\n",
    "    binary_mask = (torch.sum(x_output, dim=1) != 0).unsqueeze(1).to(device)\n",
    "    x_pred_true = x_pred.masked_select(binary_mask)\n",
    "    x_output_true = x_output.masked_select(binary_mask)\n",
    "    abs_err = torch.abs(x_pred_true - x_output_true)\n",
    "    rel_err = torch.abs(x_pred_true - x_output_true) / x_output_true\n",
    "    return (torch.sum(abs_err) / torch.nonzero(binary_mask, as_tuple=False).size(0)).item(), \\\n",
    "           (torch.sum(rel_err) / torch.nonzero(binary_mask, as_tuple=False).size(0)).item()"
   ]
  },
  {
   "cell_type": "code",
   "execution_count": 73,
   "metadata": {},
   "outputs": [],
   "source": [
    "pred = torch.tensor([\n",
    "   [[0, 0, 1, 1],\n",
    "    [0, 0, 1, 1],\n",
    "    [0, 0, 1, 0],\n",
    "    [0, 0, 0, 0]],\n",
    "    \n",
    "   [[1, 1, 1, 1],\n",
    "    [1, 1, 1, 1],\n",
    "    [0, 0, 1, 0],\n",
    "    [0, 0, 0, 0]]\n",
    "])\n",
    "\n",
    "target = torch.tensor([\n",
    "   [[0, 0, 1, 1],\n",
    "    [0, 250, 1, 1],\n",
    "    [0, 0, 0, 0],\n",
    "    [0, 0, 0, 0]],\n",
    "    \n",
    "   [[0, 1, 1, 1],\n",
    "    [0, 0, 1, 1],\n",
    "    [250, 0, 1, 0],\n",
    "    [250, 0, 0, 0]]\n",
    "])"
   ]
  },
  {
   "cell_type": "code",
   "execution_count": 74,
   "metadata": {},
   "outputs": [],
   "source": [
    "# cm_ = cm(pred, target)\n",
    "# print(cm_)\n",
    "# get_segmt_scores(cm_)"
   ]
  },
  {
   "cell_type": "code",
   "execution_count": 75,
   "metadata": {},
   "outputs": [
    {
     "data": {
      "text/plain": [
       "(0.8595238095238096, 0.8939393939393939, 0.7501893939393939)"
      ]
     },
     "execution_count": 75,
     "metadata": {},
     "output_type": "execute_result"
    }
   ],
   "source": [
    "pix_acc = 0.5 * (14/15 + 11/14)\n",
    "mean = 0.5 * (0.5 * (10/11 + 4/4) + 0.5 * (8/8 + 4/6))\n",
    "miou = 0.5 * (0.5 * (10/11 + 4/5) + 0.5 * (5/8 + 6/9))\n",
    "pix_acc, mean, miou"
   ]
  },
  {
   "cell_type": "code",
   "execution_count": 76,
   "metadata": {},
   "outputs": [
    {
     "data": {
      "text/plain": [
       "tensor(0.7502)"
      ]
     },
     "execution_count": 76,
     "metadata": {},
     "output_type": "execute_result"
    }
   ],
   "source": [
    "compute_miou(pred, target)"
   ]
  },
  {
   "cell_type": "code",
   "execution_count": 77,
   "metadata": {},
   "outputs": [
    {
     "data": {
      "text/plain": [
       "tensor(0.8595)"
      ]
     },
     "execution_count": 77,
     "metadata": {},
     "output_type": "execute_result"
    }
   ],
   "source": [
    "compute_iou(pred, target)"
   ]
  },
  {
   "cell_type": "code",
   "execution_count": null,
   "metadata": {},
   "outputs": [],
   "source": []
  }
 ],
 "metadata": {
  "kernelspec": {
   "display_name": "Python 3",
   "language": "python",
   "name": "python3"
  },
  "language_info": {
   "codemirror_mode": {
    "name": "ipython",
    "version": 3
   },
   "file_extension": ".py",
   "mimetype": "text/x-python",
   "name": "python",
   "nbconvert_exporter": "python",
   "pygments_lexer": "ipython3",
   "version": "3.7.5"
  }
 },
 "nbformat": 4,
 "nbformat_minor": 4
}
