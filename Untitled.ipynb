{
 "cells": [
  {
   "cell_type": "code",
   "execution_count": 1,
   "metadata": {},
   "outputs": [
    {
     "name": "stderr",
     "output_type": "stream",
     "text": [
      "/home/ubuntu/anaconda3/envs/pytorch_p36/lib/python3.6/site-packages/matplotlib/__init__.py:1067: UserWarning: Duplicate key in file \"/home/ubuntu/.config/matplotlib/matplotlibrc\", line #2\n",
      "  (fname, cnt))\n",
      "/home/ubuntu/anaconda3/envs/pytorch_p36/lib/python3.6/site-packages/matplotlib/__init__.py:1067: UserWarning: Duplicate key in file \"/home/ubuntu/.config/matplotlib/matplotlibrc\", line #3\n",
      "  (fname, cnt))\n"
     ]
    },
    {
     "name": "stdout",
     "output_type": "stream",
     "text": [
      "device: cuda\n",
      "Loading dataset...\n"
     ]
    }
   ],
   "source": [
    "import argparse, sys, os, time\n",
    "import cv2\n",
    "import numpy as np\n",
    "import pandas as pd\n",
    "import torch\n",
    "from torch import optim\n",
    "import matplotlib.pyplot as plt\n",
    "import seaborn as sns\n",
    "import torch.nn as nn\n",
    "import torch.nn.functional as F\n",
    "from torch.utils.data import Dataset, DataLoader\n",
    "from torchvision import transforms\n",
    "from tqdm.notebook import tqdm\n",
    "\n",
    "from dataloader import CityscapesDataset\n",
    "\n",
    "DEPTH_CORRECTION = 2.1116e-09\n",
    "\n",
    "def compute_loss(batch_X, batch_y_segmt, batch_y_depth, batch_mask_segmt, batch_mask_depth, model,\n",
    "                 criterion=None, optimizer=None, is_train=True):\n",
    "\n",
    "    model.train(is_train)\n",
    "\n",
    "    batch_X = batch_X.to(device, non_blocking=True)\n",
    "    batch_y_segmt = batch_y_segmt.to(device, non_blocking=True)\n",
    "    batch_y_depth = batch_y_depth.to(device, non_blocking=True)\n",
    "    batch_mask_segmt = batch_mask_segmt.to(device, non_blocking=True)\n",
    "    batch_mask_depth = batch_mask_depth.to(device, non_blocking=True)\n",
    "\n",
    "    output = model(batch_X)\n",
    "    image_loss, label_loss = criterion(output, batch_y_segmt, batch_y_depth, batch_mask_segmt, batch_mask_depth)\n",
    "\n",
    "    if is_train:\n",
    "        optimizer.zero_grad()\n",
    "        image_loss.backward(retain_graph=True)\n",
    "        label_loss.backward()\n",
    "        optimizer.step()\n",
    "\n",
    "    return image_loss.item() + label_loss.item()\n",
    "\n",
    "torch.manual_seed(0)\n",
    "device = torch.device(\"cuda\")\n",
    "print(\"device: {}\".format(device))\n",
    "\n",
    "print(\"Loading dataset...\")\n",
    "train_data = CityscapesDataset(root_path='../data/cityscapes', height=256, width=512,\n",
    "                               split='train', transform=[\"random_flip\"])\n",
    "valid_data = CityscapesDataset(root_path='../data/cityscapes', height=256, width=512, \n",
    "                               split='val', transform=None)\n",
    "# test_data = CityscapesDataset('./data/cityscapes', split='train', transform=transform)\n",
    "train = DataLoader(train_data, batch_size=8, shuffle=True, num_workers=2)\n",
    "valid = DataLoader(valid_data, batch_size=8, shuffle=True, num_workers=2)"
   ]
  },
  {
   "cell_type": "code",
   "execution_count": 2,
   "metadata": {},
   "outputs": [],
   "source": [
    "class TTDown(nn.Module):\n",
    "    def __init__(self, in_features, out_features, mid_features=None):\n",
    "        super().__init__()\n",
    "        if not mid_features:\n",
    "            mid_features = out_features\n",
    "        self.double_conv = nn.Sequential(\n",
    "            nn.Conv2d(in_features, mid_features, kernel_size=3, padding=1),\n",
    "            nn.ReLU(inplace=True),\n",
    "            nn.Conv2d(mid_features, out_features, kernel_size=3, padding=1),\n",
    "            nn.ReLU(inplace=True)\n",
    "        )\n",
    "        self.pool = nn.MaxPool2d(kernel_size=2, stride=2)\n",
    "\n",
    "    def forward(self, x):\n",
    "        return self.pool(self.double_conv(x))\n",
    "\n",
    "class TTUp(nn.Module):\n",
    "    def __init__(self, in_features, out_features, mid_features=None):\n",
    "        super().__init__()\n",
    "        if not mid_features:\n",
    "            mid_features = out_features\n",
    "        self.double_conv = nn.Sequential(\n",
    "                    nn.Conv2d(in_features, mid_features, kernel_size=3, padding=1),\n",
    "                    nn.ReLU(inplace=True),\n",
    "                    nn.Conv2d(mid_features, out_features, kernel_size=3, padding=1),\n",
    "                    nn.ReLU(inplace=True)\n",
    "                )\n",
    "        self.up = nn.Upsample(scale_factor=2, mode='bilinear', align_corners=True)\n",
    "\n",
    "    def forward(self, x):\n",
    "        return self.double_conv(self.up(x))\n",
    "\n",
    "class TSNet1(nn.Module):\n",
    "    def __init__(self, in_features, out_features):\n",
    "        super(TSNet1, self).__init__()\n",
    "        features = [64, 128, 256]\n",
    "        self.enc1 = TTDown(in_features=in_features, out_features=features[0])\n",
    "        self.enc2 = TTDown(in_features=features[0], out_features=features[1])\n",
    "        self.enc3 = TTDown(in_features=features[1], out_features=features[2])\n",
    "        self.dec1 = TTUp(in_features=features[2], out_features=features[1])\n",
    "        self.dec2 = TTUp(in_features=features[1], out_features=features[0])\n",
    "        self.dec3 = TTUp(in_features=features[0], out_features=features[0])\n",
    "        self.final_conv = nn.Conv2d(features[0], out_features, kernel_size=1, stride=1, bias=False)\n",
    "\n",
    "    def forward(self, x):\n",
    "        out = self.enc1(x)\n",
    "        out = self.enc2(out)\n",
    "        out = self.enc3(out)\n",
    "        out = self.dec1(out)\n",
    "        out = self.dec2(out)\n",
    "        out = self.dec3(out)\n",
    "        out = self.final_conv(out)\n",
    "        return out\n",
    "    \n",
    "class TSNet2(nn.Module):\n",
    "    def __init__(self, in_features, out_features):\n",
    "        super(TSNet2, self).__init__()\n",
    "        self.conv = nn.Sequential(\n",
    "            nn.Conv2d(in_features, 512, kernel_size=3, padding=1),\n",
    "            nn.BatchNorm2d(512),\n",
    "            nn.ReLU(inplace=True),\n",
    "            nn.Conv2d(512, 32, kernel_size=3, padding=1),\n",
    "            nn.BatchNorm2d(32),\n",
    "            nn.ReLU(inplace=True),\n",
    "        )\n",
    "        self.conv_out = nn.Conv2d(32, out_features, kernel_size=1, stride=1, bias=False)\n",
    "        \n",
    "    def forward(self, x):\n",
    "        out = self.conv(x)\n",
    "        out = self.conv_out(out)\n",
    "        return out"
   ]
  },
  {
   "cell_type": "code",
   "execution_count": 3,
   "metadata": {},
   "outputs": [],
   "source": [
    "model = TSNet1(in_features=19, out_features=1).to(device)"
   ]
  },
  {
   "cell_type": "code",
   "execution_count": 4,
   "metadata": {},
   "outputs": [],
   "source": [
    "criterion = nn.MSELoss()\n",
    "optimizer = optim.Adam(model.parameters(), lr=0.0001)"
   ]
  },
  {
   "cell_type": "code",
   "execution_count": 5,
   "metadata": {
    "scrolled": true
   },
   "outputs": [
    {
     "data": {
      "application/vnd.jupyter.widget-view+json": {
       "model_id": "126b22b58cd44becb3da2f556162be2c",
       "version_major": 2,
       "version_minor": 0
      },
      "text/plain": [
       "HBox(children=(FloatProgress(value=0.0, max=186.0), HTML(value='')))"
      ]
     },
     "metadata": {},
     "output_type": "display_data"
    },
    {
     "name": "stdout",
     "output_type": "stream",
     "text": [
      "\n",
      "0.44484582787845284\n"
     ]
    },
    {
     "data": {
      "application/vnd.jupyter.widget-view+json": {
       "model_id": "05cc8abd98ae48cb8d999c84d5e5023b",
       "version_major": 2,
       "version_minor": 0
      },
      "text/plain": [
       "HBox(children=(FloatProgress(value=0.0, max=186.0), HTML(value='')))"
      ]
     },
     "metadata": {},
     "output_type": "display_data"
    },
    {
     "name": "stdout",
     "output_type": "stream",
     "text": [
      "\n",
      "0.26254147640429437\n"
     ]
    },
    {
     "data": {
      "application/vnd.jupyter.widget-view+json": {
       "model_id": "f4533a22aae14cb5984d69746b8a471f",
       "version_major": 2,
       "version_minor": 0
      },
      "text/plain": [
       "HBox(children=(FloatProgress(value=0.0, max=186.0), HTML(value='')))"
      ]
     },
     "metadata": {},
     "output_type": "display_data"
    },
    {
     "name": "stdout",
     "output_type": "stream",
     "text": [
      "\n",
      "0.23384517116937786\n"
     ]
    },
    {
     "data": {
      "application/vnd.jupyter.widget-view+json": {
       "model_id": "3c12fcef56234cbb93ee56ebbe139a59",
       "version_major": 2,
       "version_minor": 0
      },
      "text/plain": [
       "HBox(children=(FloatProgress(value=0.0, max=186.0), HTML(value='')))"
      ]
     },
     "metadata": {},
     "output_type": "display_data"
    },
    {
     "name": "stdout",
     "output_type": "stream",
     "text": [
      "\n",
      "0.22086023882729933\n"
     ]
    },
    {
     "data": {
      "application/vnd.jupyter.widget-view+json": {
       "model_id": "a4696bc3a8354425a989c4bce98d3e3c",
       "version_major": 2,
       "version_minor": 0
      },
      "text/plain": [
       "HBox(children=(FloatProgress(value=0.0, max=186.0), HTML(value='')))"
      ]
     },
     "metadata": {},
     "output_type": "display_data"
    },
    {
     "name": "stdout",
     "output_type": "stream",
     "text": [
      "\n",
      "0.2114372382638976\n"
     ]
    },
    {
     "data": {
      "application/vnd.jupyter.widget-view+json": {
       "model_id": "cded3804877d48bbb1dcef3813c450cf",
       "version_major": 2,
       "version_minor": 0
      },
      "text/plain": [
       "HBox(children=(FloatProgress(value=0.0, max=186.0), HTML(value='')))"
      ]
     },
     "metadata": {},
     "output_type": "display_data"
    },
    {
     "name": "stdout",
     "output_type": "stream",
     "text": [
      "\n",
      "0.20239536149892956\n"
     ]
    },
    {
     "data": {
      "application/vnd.jupyter.widget-view+json": {
       "model_id": "478d3d9a886340869b8523fe41ec97f1",
       "version_major": 2,
       "version_minor": 0
      },
      "text/plain": [
       "HBox(children=(FloatProgress(value=0.0, max=186.0), HTML(value='')))"
      ]
     },
     "metadata": {},
     "output_type": "display_data"
    },
    {
     "name": "stdout",
     "output_type": "stream",
     "text": [
      "\n",
      "0.19523684831801802\n"
     ]
    },
    {
     "data": {
      "application/vnd.jupyter.widget-view+json": {
       "model_id": "95ef74ca0b1643f8aa21b6b74c3bf9bb",
       "version_major": 2,
       "version_minor": 0
      },
      "text/plain": [
       "HBox(children=(FloatProgress(value=0.0, max=186.0), HTML(value='')))"
      ]
     },
     "metadata": {},
     "output_type": "display_data"
    },
    {
     "name": "stdout",
     "output_type": "stream",
     "text": [
      "\n",
      "0.18925310805207118\n"
     ]
    },
    {
     "data": {
      "application/vnd.jupyter.widget-view+json": {
       "model_id": "8b01b5c854524a15a0b3a6099f029000",
       "version_major": 2,
       "version_minor": 0
      },
      "text/plain": [
       "HBox(children=(FloatProgress(value=0.0, max=186.0), HTML(value='')))"
      ]
     },
     "metadata": {},
     "output_type": "display_data"
    },
    {
     "name": "stdout",
     "output_type": "stream",
     "text": [
      "\n",
      "0.18420229392359033\n"
     ]
    },
    {
     "data": {
      "application/vnd.jupyter.widget-view+json": {
       "model_id": "2233923e38ae4e8db9c201b9fc2e2881",
       "version_major": 2,
       "version_minor": 0
      },
      "text/plain": [
       "HBox(children=(FloatProgress(value=0.0, max=186.0), HTML(value='')))"
      ]
     },
     "metadata": {},
     "output_type": "display_data"
    },
    {
     "name": "stdout",
     "output_type": "stream",
     "text": [
      "\n",
      "0.18148001498775557\n"
     ]
    }
   ],
   "source": [
    "for e in range(10):\n",
    "    tr_loss = 0.\n",
    "    for batch in tqdm(train):\n",
    "        _, _, seg, dep, _, _ = batch\n",
    "        seg = F.one_hot(seg, num_classes=20).permute(0,3,1,2)[:, :19, :, :].type(torch.FloatTensor)\n",
    "        seg = seg.to(device, non_blocking=True)\n",
    "        dep = dep.to(device, non_blocking=True)\n",
    "        pred = model(seg)\n",
    "        loss = criterion(pred, dep)\n",
    "        \n",
    "        optimizer.zero_grad()\n",
    "        loss.backward()\n",
    "        optimizer.step()\n",
    "        \n",
    "        tr_loss += loss.item()\n",
    "    print(tr_loss)"
   ]
  },
  {
   "cell_type": "code",
   "execution_count": 3,
   "metadata": {},
   "outputs": [],
   "source": [
    "model = TSNet2(in_features=19, out_features=1).to(device)"
   ]
  },
  {
   "cell_type": "code",
   "execution_count": 4,
   "metadata": {},
   "outputs": [],
   "source": [
    "criterion = nn.MSELoss()\n",
    "optimizer = optim.Adam(model.parameters(), lr=0.0001)"
   ]
  },
  {
   "cell_type": "code",
   "execution_count": null,
   "metadata": {},
   "outputs": [
    {
     "data": {
      "application/vnd.jupyter.widget-view+json": {
       "model_id": "3dceef08043745ce8990c5d38dafd235",
       "version_major": 2,
       "version_minor": 0
      },
      "text/plain": [
       "HBox(children=(FloatProgress(value=0.0, max=372.0), HTML(value='')))"
      ]
     },
     "metadata": {},
     "output_type": "display_data"
    }
   ],
   "source": [
    "for e in range(10):\n",
    "    tr_loss = 0.\n",
    "    for batch in tqdm(train):\n",
    "        _, _, seg, dep, _, _ = batch\n",
    "        seg = F.one_hot(seg, num_classes=20).permute(0,3,1,2)[:, :19, :, :].type(torch.FloatTensor)\n",
    "        seg = seg.to(device, non_blocking=True)\n",
    "        dep = dep.to(device, non_blocking=True)\n",
    "        pred = model(seg)\n",
    "        loss = criterion(pred, dep)\n",
    "        \n",
    "        optimizer.zero_grad()\n",
    "        loss.backward()\n",
    "        optimizer.step()\n",
    "        \n",
    "        tr_loss += loss.item()\n",
    "    print(tr_loss)"
   ]
  },
  {
   "cell_type": "code",
   "execution_count": null,
   "metadata": {},
   "outputs": [],
   "source": []
  }
 ],
 "metadata": {
  "kernelspec": {
   "display_name": "Python 3",
   "language": "python",
   "name": "python3"
  },
  "language_info": {
   "codemirror_mode": {
    "name": "ipython",
    "version": 3
   },
   "file_extension": ".py",
   "mimetype": "text/x-python",
   "name": "python",
   "nbconvert_exporter": "python",
   "pygments_lexer": "ipython3",
   "version": "3.6.10"
  }
 },
 "nbformat": 4,
 "nbformat_minor": 4
}
